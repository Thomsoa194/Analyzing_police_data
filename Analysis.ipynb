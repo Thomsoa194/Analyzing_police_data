{
 "cells": [
  {
   "cell_type": "code",
   "execution_count": 2,
   "id": "83274d13",
   "metadata": {},
   "outputs": [],
   "source": [
    "#import libraries \n",
    "import pandas as pd"
   ]
  },
  {
   "cell_type": "code",
   "execution_count": 6,
   "id": "e739918b",
   "metadata": {},
   "outputs": [
    {
     "name": "stderr",
     "output_type": "stream",
     "text": [
      "/Users/alastairthomson/opt/miniconda3/lib/python3.9/site-packages/IPython/core/interactiveshell.py:3437: DtypeWarning: Columns (6,17,30) have mixed types.Specify dtype option on import or set low_memory=False.\n",
      "  exec(code_obj, self.user_global_ns, self.user_ns)\n"
     ]
    }
   ],
   "source": [
    "file = 'ri_statewide_2020_04_01.csv'\n",
    "ri = pd.read_csv(file)\n"
   ]
  },
  {
   "cell_type": "markdown",
   "id": "b847edad",
   "metadata": {},
   "source": [
    "Do drivers of different genders commit different types of traffic violations?\n",
    "Does gender affect who gets a ticket for speeding?\n",
    "Does the driver's gender affect whether their vehicle is searched or not?"
   ]
  },
  {
   "cell_type": "markdown",
   "id": "829f124d",
   "metadata": {},
   "source": [
    "Since these are all of type vehicle, the column is obsolete and we can therefore drop it entirely."
   ]
  },
  {
   "cell_type": "code",
   "execution_count": 66,
   "id": "66f867d7",
   "metadata": {},
   "outputs": [],
   "source": [
    "ri.drop('type', inplace=True, axis=1)"
   ]
  },
  {
   "cell_type": "code",
   "execution_count": 68,
   "id": "42bf930b",
   "metadata": {},
   "outputs": [
    {
     "data": {
      "text/plain": [
       "citation    428378\n",
       "warning      28840\n",
       "arrest       16603\n",
       "Name: outcome, dtype: int64"
      ]
     },
     "execution_count": 68,
     "metadata": {},
     "output_type": "execute_result"
    }
   ],
   "source": [
    "ri.outcome.value_counts()"
   ]
  },
  {
   "cell_type": "code",
   "execution_count": 14,
   "id": "8da63156",
   "metadata": {},
   "outputs": [],
   "source": [
    "ri.dropna(subset=['subject_race', 'subject_sex'], inplace=True)"
   ]
  },
  {
   "cell_type": "code",
   "execution_count": 16,
   "id": "b63e5f1f",
   "metadata": {},
   "outputs": [
    {
     "data": {
      "text/plain": [
       "raw_row_number                0\n",
       "date                          0\n",
       "time                          0\n",
       "zone                          0\n",
       "subject_race                  0\n",
       "subject_sex                   0\n",
       "department_id                 0\n",
       "type                          0\n",
       "arrest_made                   0\n",
       "citation_issued               0\n",
       "warning_issued                0\n",
       "outcome                    6763\n",
       "contraband_found         462822\n",
       "contraband_drugs         464596\n",
       "contraband_weapons       468789\n",
       "contraband_alcohol       479367\n",
       "contraband_other         462822\n",
       "frisk_performed               0\n",
       "search_conducted              0\n",
       "search_basis             462822\n",
       "reason_for_search        462822\n",
       "reason_for_stop               0\n",
       "vehicle_make             162525\n",
       "vehicle_model            250553\n",
       "raw_BasisForStop              0\n",
       "raw_OperatorRace              0\n",
       "raw_OperatorSex               0\n",
       "raw_ResultOfStop              0\n",
       "raw_SearchResultOne      462822\n",
       "raw_SearchResultTwo      479765\n",
       "raw_SearchResultThree    480416\n",
       "dtype: int64"
      ]
     },
     "execution_count": 16,
     "metadata": {},
     "output_type": "execute_result"
    }
   ],
   "source": [
    "ri.isnull().sum()"
   ]
  },
  {
   "cell_type": "code",
   "execution_count": 26,
   "id": "5865d336",
   "metadata": {},
   "outputs": [
    {
     "data": {
      "text/plain": [
       "raw_row_number            int64\n",
       "date                     object\n",
       "time                     object\n",
       "zone                     object\n",
       "subject_race             object\n",
       "subject_sex              object\n",
       "department_id            object\n",
       "type                     object\n",
       "arrest_made                bool\n",
       "citation_issued            bool\n",
       "warning_issued             bool\n",
       "outcome                  object\n",
       "contraband_found         object\n",
       "contraband_drugs         object\n",
       "contraband_weapons       object\n",
       "contraband_alcohol       object\n",
       "contraband_other         object\n",
       "frisk_performed            bool\n",
       "search_conducted           bool\n",
       "search_basis             object\n",
       "reason_for_search        object\n",
       "reason_for_stop          object\n",
       "vehicle_make             object\n",
       "vehicle_model            object\n",
       "raw_BasisForStop         object\n",
       "raw_OperatorRace         object\n",
       "raw_OperatorSex          object\n",
       "raw_ResultOfStop         object\n",
       "raw_SearchResultOne      object\n",
       "raw_SearchResultTwo      object\n",
       "raw_SearchResultThree    object\n",
       "dtype: object"
      ]
     },
     "execution_count": 26,
     "metadata": {},
     "output_type": "execute_result"
    }
   ],
   "source": [
    "ri.dtypes"
   ]
  },
  {
   "cell_type": "code",
   "execution_count": 70,
   "id": "8305af0e",
   "metadata": {},
   "outputs": [],
   "source": [
    "combined = ri.date.str.cat(ri.time, sep=' ')\n",
    "ri['date_and_time'] = pd.to_datetime(combined)\n",
    "\n"
   ]
  },
  {
   "cell_type": "code",
   "execution_count": 71,
   "id": "e83f88b3",
   "metadata": {},
   "outputs": [],
   "source": [
    "ri.set_index('date_and_time', inplace=True)"
   ]
  },
  {
   "cell_type": "code",
   "execution_count": 75,
   "id": "96e369cd",
   "metadata": {},
   "outputs": [
    {
     "data": {
      "text/html": [
       "<div>\n",
       "<style scoped>\n",
       "    .dataframe tbody tr th:only-of-type {\n",
       "        vertical-align: middle;\n",
       "    }\n",
       "\n",
       "    .dataframe tbody tr th {\n",
       "        vertical-align: top;\n",
       "    }\n",
       "\n",
       "    .dataframe thead th {\n",
       "        text-align: right;\n",
       "    }\n",
       "</style>\n",
       "<table border=\"1\" class=\"dataframe\">\n",
       "  <thead>\n",
       "    <tr style=\"text-align: right;\">\n",
       "      <th></th>\n",
       "      <th>date</th>\n",
       "      <th>time</th>\n",
       "      <th>zone</th>\n",
       "      <th>subject_race</th>\n",
       "      <th>subject_sex</th>\n",
       "      <th>department_id</th>\n",
       "      <th>arrest_made</th>\n",
       "      <th>citation_issued</th>\n",
       "      <th>warning_issued</th>\n",
       "      <th>outcome</th>\n",
       "      <th>...</th>\n",
       "      <th>reason_for_stop</th>\n",
       "      <th>vehicle_make</th>\n",
       "      <th>vehicle_model</th>\n",
       "      <th>raw_BasisForStop</th>\n",
       "      <th>raw_OperatorRace</th>\n",
       "      <th>raw_OperatorSex</th>\n",
       "      <th>raw_ResultOfStop</th>\n",
       "      <th>raw_SearchResultOne</th>\n",
       "      <th>raw_SearchResultTwo</th>\n",
       "      <th>raw_SearchResultThree</th>\n",
       "    </tr>\n",
       "    <tr>\n",
       "      <th>date_and_time</th>\n",
       "      <th></th>\n",
       "      <th></th>\n",
       "      <th></th>\n",
       "      <th></th>\n",
       "      <th></th>\n",
       "      <th></th>\n",
       "      <th></th>\n",
       "      <th></th>\n",
       "      <th></th>\n",
       "      <th></th>\n",
       "      <th></th>\n",
       "      <th></th>\n",
       "      <th></th>\n",
       "      <th></th>\n",
       "      <th></th>\n",
       "      <th></th>\n",
       "      <th></th>\n",
       "      <th></th>\n",
       "      <th></th>\n",
       "      <th></th>\n",
       "      <th></th>\n",
       "    </tr>\n",
       "  </thead>\n",
       "  <tbody>\n",
       "    <tr>\n",
       "      <th>2005-11-22 11:15:00</th>\n",
       "      <td>2005-11-22</td>\n",
       "      <td>11:15:00</td>\n",
       "      <td>X3</td>\n",
       "      <td>white</td>\n",
       "      <td>male</td>\n",
       "      <td>200</td>\n",
       "      <td>False</td>\n",
       "      <td>True</td>\n",
       "      <td>False</td>\n",
       "      <td>citation</td>\n",
       "      <td>...</td>\n",
       "      <td>Speeding</td>\n",
       "      <td>NaN</td>\n",
       "      <td>NaN</td>\n",
       "      <td>SP</td>\n",
       "      <td>W</td>\n",
       "      <td>M</td>\n",
       "      <td>M</td>\n",
       "      <td>NaN</td>\n",
       "      <td>NaN</td>\n",
       "      <td>NaN</td>\n",
       "    </tr>\n",
       "    <tr>\n",
       "      <th>2005-10-01 12:20:00</th>\n",
       "      <td>2005-10-01</td>\n",
       "      <td>12:20:00</td>\n",
       "      <td>X3</td>\n",
       "      <td>white</td>\n",
       "      <td>male</td>\n",
       "      <td>200</td>\n",
       "      <td>False</td>\n",
       "      <td>True</td>\n",
       "      <td>False</td>\n",
       "      <td>citation</td>\n",
       "      <td>...</td>\n",
       "      <td>Speeding</td>\n",
       "      <td>NaN</td>\n",
       "      <td>NaN</td>\n",
       "      <td>SP</td>\n",
       "      <td>W</td>\n",
       "      <td>M</td>\n",
       "      <td>M</td>\n",
       "      <td>NaN</td>\n",
       "      <td>NaN</td>\n",
       "      <td>NaN</td>\n",
       "    </tr>\n",
       "    <tr>\n",
       "      <th>2005-10-01 12:30:00</th>\n",
       "      <td>2005-10-01</td>\n",
       "      <td>12:30:00</td>\n",
       "      <td>X3</td>\n",
       "      <td>white</td>\n",
       "      <td>female</td>\n",
       "      <td>200</td>\n",
       "      <td>False</td>\n",
       "      <td>True</td>\n",
       "      <td>False</td>\n",
       "      <td>citation</td>\n",
       "      <td>...</td>\n",
       "      <td>Speeding</td>\n",
       "      <td>NaN</td>\n",
       "      <td>NaN</td>\n",
       "      <td>SP</td>\n",
       "      <td>W</td>\n",
       "      <td>F</td>\n",
       "      <td>M</td>\n",
       "      <td>NaN</td>\n",
       "      <td>NaN</td>\n",
       "      <td>NaN</td>\n",
       "    </tr>\n",
       "    <tr>\n",
       "      <th>2005-10-01 12:50:00</th>\n",
       "      <td>2005-10-01</td>\n",
       "      <td>12:50:00</td>\n",
       "      <td>X3</td>\n",
       "      <td>white</td>\n",
       "      <td>male</td>\n",
       "      <td>200</td>\n",
       "      <td>False</td>\n",
       "      <td>True</td>\n",
       "      <td>False</td>\n",
       "      <td>citation</td>\n",
       "      <td>...</td>\n",
       "      <td>Speeding</td>\n",
       "      <td>NaN</td>\n",
       "      <td>NaN</td>\n",
       "      <td>SP</td>\n",
       "      <td>W</td>\n",
       "      <td>M</td>\n",
       "      <td>M</td>\n",
       "      <td>NaN</td>\n",
       "      <td>NaN</td>\n",
       "      <td>NaN</td>\n",
       "    </tr>\n",
       "    <tr>\n",
       "      <th>2005-10-01 13:10:00</th>\n",
       "      <td>2005-10-01</td>\n",
       "      <td>13:10:00</td>\n",
       "      <td>X3</td>\n",
       "      <td>white</td>\n",
       "      <td>female</td>\n",
       "      <td>200</td>\n",
       "      <td>False</td>\n",
       "      <td>True</td>\n",
       "      <td>False</td>\n",
       "      <td>citation</td>\n",
       "      <td>...</td>\n",
       "      <td>Speeding</td>\n",
       "      <td>NaN</td>\n",
       "      <td>NaN</td>\n",
       "      <td>SP</td>\n",
       "      <td>W</td>\n",
       "      <td>F</td>\n",
       "      <td>M</td>\n",
       "      <td>NaN</td>\n",
       "      <td>NaN</td>\n",
       "      <td>NaN</td>\n",
       "    </tr>\n",
       "  </tbody>\n",
       "</table>\n",
       "<p>5 rows × 29 columns</p>\n",
       "</div>"
      ],
      "text/plain": [
       "                           date      time zone subject_race subject_sex  \\\n",
       "date_and_time                                                             \n",
       "2005-11-22 11:15:00  2005-11-22  11:15:00   X3        white        male   \n",
       "2005-10-01 12:20:00  2005-10-01  12:20:00   X3        white        male   \n",
       "2005-10-01 12:30:00  2005-10-01  12:30:00   X3        white      female   \n",
       "2005-10-01 12:50:00  2005-10-01  12:50:00   X3        white        male   \n",
       "2005-10-01 13:10:00  2005-10-01  13:10:00   X3        white      female   \n",
       "\n",
       "                    department_id  arrest_made  citation_issued  \\\n",
       "date_and_time                                                     \n",
       "2005-11-22 11:15:00           200        False             True   \n",
       "2005-10-01 12:20:00           200        False             True   \n",
       "2005-10-01 12:30:00           200        False             True   \n",
       "2005-10-01 12:50:00           200        False             True   \n",
       "2005-10-01 13:10:00           200        False             True   \n",
       "\n",
       "                     warning_issued   outcome  ... reason_for_stop  \\\n",
       "date_and_time                                  ...                   \n",
       "2005-11-22 11:15:00           False  citation  ...        Speeding   \n",
       "2005-10-01 12:20:00           False  citation  ...        Speeding   \n",
       "2005-10-01 12:30:00           False  citation  ...        Speeding   \n",
       "2005-10-01 12:50:00           False  citation  ...        Speeding   \n",
       "2005-10-01 13:10:00           False  citation  ...        Speeding   \n",
       "\n",
       "                    vehicle_make vehicle_model raw_BasisForStop  \\\n",
       "date_and_time                                                     \n",
       "2005-11-22 11:15:00          NaN           NaN               SP   \n",
       "2005-10-01 12:20:00          NaN           NaN               SP   \n",
       "2005-10-01 12:30:00          NaN           NaN               SP   \n",
       "2005-10-01 12:50:00          NaN           NaN               SP   \n",
       "2005-10-01 13:10:00          NaN           NaN               SP   \n",
       "\n",
       "                    raw_OperatorRace  raw_OperatorSex  raw_ResultOfStop  \\\n",
       "date_and_time                                                             \n",
       "2005-11-22 11:15:00                W                M                 M   \n",
       "2005-10-01 12:20:00                W                M                 M   \n",
       "2005-10-01 12:30:00                W                F                 M   \n",
       "2005-10-01 12:50:00                W                M                 M   \n",
       "2005-10-01 13:10:00                W                F                 M   \n",
       "\n",
       "                    raw_SearchResultOne raw_SearchResultTwo  \\\n",
       "date_and_time                                                 \n",
       "2005-11-22 11:15:00                 NaN                 NaN   \n",
       "2005-10-01 12:20:00                 NaN                 NaN   \n",
       "2005-10-01 12:30:00                 NaN                 NaN   \n",
       "2005-10-01 12:50:00                 NaN                 NaN   \n",
       "2005-10-01 13:10:00                 NaN                 NaN   \n",
       "\n",
       "                    raw_SearchResultThree  \n",
       "date_and_time                              \n",
       "2005-11-22 11:15:00                   NaN  \n",
       "2005-10-01 12:20:00                   NaN  \n",
       "2005-10-01 12:30:00                   NaN  \n",
       "2005-10-01 12:50:00                   NaN  \n",
       "2005-10-01 13:10:00                   NaN  \n",
       "\n",
       "[5 rows x 29 columns]"
      ]
     },
     "execution_count": 75,
     "metadata": {},
     "output_type": "execute_result"
    }
   ],
   "source": [
    "ri.head()"
   ]
  },
  {
   "cell_type": "code",
   "execution_count": 61,
   "id": "e5f93aef",
   "metadata": {},
   "outputs": [
    {
     "data": {
      "text/plain": [
       "white                     344716\n",
       "black                      68577\n",
       "hispanic                   53123\n",
       "asian/pacific islander     12824\n",
       "other                       1344\n",
       "Name: subject_race, dtype: int64"
      ]
     },
     "execution_count": 61,
     "metadata": {},
     "output_type": "execute_result"
    }
   ],
   "source": [
    "ri.subject_race.value_counts()"
   ]
  },
  {
   "cell_type": "markdown",
   "id": "ddb0eec5",
   "metadata": {},
   "source": [
    "Let''s have a look a each gender"
   ]
  },
  {
   "cell_type": "code",
   "execution_count": 76,
   "id": "e63d7161",
   "metadata": {},
   "outputs": [],
   "source": [
    "male = ri[ri.subject_sex == 'male']\n",
    "female = ri[ri.subject_sex == 'female']"
   ]
  },
  {
   "cell_type": "code",
   "execution_count": 80,
   "id": "44d1397b",
   "metadata": {},
   "outputs": [
    {
     "data": {
      "text/plain": [
       "Speeding                            0.522364\n",
       "Other Traffic Violation             0.206948\n",
       "Equipment/Inspection Violation      0.135102\n",
       "Registration Violation              0.040581\n",
       "Special Detail/Directed Patrol      0.037136\n",
       "Seatbelt Violation                  0.036555\n",
       "Call for Service                    0.014987\n",
       "Violation of City/Town Ordinance    0.002347\n",
       "Motorist Assist/Courtesy            0.001880\n",
       "APB                                 0.001076\n",
       "Suspicious Person                   0.000767\n",
       "Warrant                             0.000258\n",
       "Name: reason_for_stop, dtype: float64"
      ]
     },
     "execution_count": 80,
     "metadata": {},
     "output_type": "execute_result"
    }
   ],
   "source": [
    "male.reason_for_stop.value_counts(normalize=True)"
   ]
  },
  {
   "cell_type": "code",
   "execution_count": 79,
   "id": "b5658883",
   "metadata": {},
   "outputs": [
    {
     "data": {
      "text/plain": [
       "Speeding                            0.657308\n",
       "Other Traffic Violation             0.136581\n",
       "Equipment/Inspection Violation      0.107055\n",
       "Registration Violation              0.043077\n",
       "Seatbelt Violation                  0.027071\n",
       "Call for Service                    0.018057\n",
       "Special Detail/Directed Patrol      0.005071\n",
       "Motorist Assist/Courtesy            0.002532\n",
       "Violation of City/Town Ordinance    0.001647\n",
       "APB                                 0.000831\n",
       "Suspicious Person                   0.000564\n",
       "Warrant                             0.000206\n",
       "Name: reason_for_stop, dtype: float64"
      ]
     },
     "execution_count": 79,
     "metadata": {},
     "output_type": "execute_result"
    }
   ],
   "source": [
    "female.reason_for_stop.value_counts(normalize=True)"
   ]
  },
  {
   "cell_type": "markdown",
   "id": "feeeac4b",
   "metadata": {},
   "source": [
    "On first glance, speeding takes up a larger proportion of traffic violations for females than males. Although this does not take into count the number of stops for each of the two groups."
   ]
  },
  {
   "cell_type": "markdown",
   "id": "a6dc5e91",
   "metadata": {},
   "source": [
    "Does gender affect who fets a ticket for speeding?"
   ]
  },
  {
   "cell_type": "code",
   "execution_count": 86,
   "id": "ee3b8230",
   "metadata": {},
   "outputs": [
    {
     "data": {
      "text/plain": [
       "citation    0.954609\n",
       "warning     0.039059\n",
       "arrest      0.006332\n",
       "Name: outcome, dtype: float64"
      ]
     },
     "execution_count": 86,
     "metadata": {},
     "output_type": "execute_result"
    }
   ],
   "source": [
    "female_and_speeding = ri[(ri.subject_sex == 'female') & (ri.reason_for_stop == 'Speeding')]\n",
    "male_and_speeding = ri[(ri.subject_sex == 'male') & (ri.reason_for_stop == 'Speeding')]\n",
    "\n",
    "female_and_speeding.outcome.value_counts(normalize=True)\n",
    "\n",
    "\n"
   ]
  },
  {
   "cell_type": "code",
   "execution_count": 87,
   "id": "18affda1",
   "metadata": {},
   "outputs": [
    {
     "data": {
      "text/plain": [
       "citation    0.946763\n",
       "warning     0.036167\n",
       "arrest      0.017070\n",
       "Name: outcome, dtype: float64"
      ]
     },
     "execution_count": 87,
     "metadata": {},
     "output_type": "execute_result"
    }
   ],
   "source": [
    "male_and_speeding.outcome.value_counts(normalize=True)"
   ]
  },
  {
   "cell_type": "markdown",
   "id": "fd7af86f",
   "metadata": {},
   "source": [
    "The proportions of tickets (citation) given to both female and male drivers is nearly identical. With 95.4% nad 94.6%, respectively."
   ]
  },
  {
   "cell_type": "markdown",
   "id": "55c6c6eb",
   "metadata": {},
   "source": [
    "Does the driver's gender affect whether their vehicle is searched?"
   ]
  },
  {
   "cell_type": "code",
   "execution_count": null,
   "id": "3b79e2a9",
   "metadata": {},
   "outputs": [],
   "source": []
  },
  {
   "cell_type": "code",
   "execution_count": null,
   "id": "d5028424",
   "metadata": {},
   "outputs": [],
   "source": []
  }
 ],
 "metadata": {
  "kernelspec": {
   "display_name": "Python 3",
   "language": "python",
   "name": "python3"
  },
  "language_info": {
   "codemirror_mode": {
    "name": "ipython",
    "version": 3
   },
   "file_extension": ".py",
   "mimetype": "text/x-python",
   "name": "python",
   "nbconvert_exporter": "python",
   "pygments_lexer": "ipython3",
   "version": "3.9.1"
  }
 },
 "nbformat": 4,
 "nbformat_minor": 5
}
