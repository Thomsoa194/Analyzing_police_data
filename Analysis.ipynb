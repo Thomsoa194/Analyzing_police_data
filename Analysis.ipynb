{
 "cells": [
  {
   "cell_type": "code",
   "execution_count": 4,
   "id": "83274d13",
   "metadata": {},
   "outputs": [],
   "source": [
    "#import libraries \n",
    "import pandas as pd\n",
    "import matplotlib.pyplot as plt"
   ]
  },
  {
   "cell_type": "code",
   "execution_count": 5,
   "id": "e739918b",
   "metadata": {},
   "outputs": [
    {
     "name": "stderr",
     "output_type": "stream",
     "text": [
      "/Users/alastairthomson/opt/miniconda3/lib/python3.9/site-packages/IPython/core/interactiveshell.py:3437: DtypeWarning: Columns (6,17,30) have mixed types.Specify dtype option on import or set low_memory=False.\n",
      "  exec(code_obj, self.user_global_ns, self.user_ns)\n"
     ]
    }
   ],
   "source": [
    "file = 'ri_statewide_2020_04_01.csv'\n",
    "ri = pd.read_csv(file)\n"
   ]
  },
  {
   "cell_type": "markdown",
   "id": "cea6adfb",
   "metadata": {},
   "source": [
    "1. Do drivers of different genders commit different types of traffic violations?\n",
    "2. Does gender affect who gets a ticket for speeding?\n",
    "3. Does the driver's gender affect whether their vehicle is searched or not?\n",
    "4. Does gender affect who is frisked during a search?\n",
    "5. Does time of day affect arrest rate?\n",
    "6. Are drug related stops on the rise?\n",
    "7. Which zones have the highest stops?\n",
    "Which zones violations have the highest and lowest search rates?\n",
    "Does weather affect police behaviour?\n",
    "\n",
    "Before we do conduct the EDA, the data will need to be verifired to see if it reliable and also cleaned. \n"
   ]
  },
  {
   "cell_type": "markdown",
   "id": "8009e803",
   "metadata": {},
   "source": [
    "Since these are all of type vehicle, the column is obsolete and we can therefore drop it entirely."
   ]
  },
  {
   "cell_type": "code",
   "execution_count": 6,
   "id": "66f867d7",
   "metadata": {},
   "outputs": [],
   "source": [
    "ri.drop('type', inplace=True, axis=1)"
   ]
  },
  {
   "cell_type": "code",
   "execution_count": 7,
   "id": "42bf930b",
   "metadata": {},
   "outputs": [
    {
     "data": {
      "text/plain": [
       "citation    428388\n",
       "warning      28849\n",
       "arrest       16603\n",
       "Name: outcome, dtype: int64"
      ]
     },
     "execution_count": 7,
     "metadata": {},
     "output_type": "execute_result"
    }
   ],
   "source": [
    "ri.outcome.value_counts()"
   ]
  },
  {
   "cell_type": "code",
   "execution_count": 8,
   "id": "92948a0c",
   "metadata": {},
   "outputs": [],
   "source": [
    "ri.dropna(subset=['subject_race', 'subject_sex'], inplace=True)"
   ]
  },
  {
   "cell_type": "code",
   "execution_count": 9,
   "id": "e7b8fa06",
   "metadata": {},
   "outputs": [
    {
     "data": {
      "text/plain": [
       "raw_row_number                0\n",
       "date                          0\n",
       "time                          0\n",
       "zone                          0\n",
       "subject_race                  0\n",
       "subject_sex                   0\n",
       "department_id                 0\n",
       "arrest_made                   0\n",
       "citation_issued               0\n",
       "warning_issued                0\n",
       "outcome                    6763\n",
       "contraband_found         462822\n",
       "contraband_drugs         464596\n",
       "contraband_weapons       468789\n",
       "contraband_alcohol       479367\n",
       "contraband_other         462822\n",
       "frisk_performed               0\n",
       "search_conducted              0\n",
       "search_basis             462822\n",
       "reason_for_search        462822\n",
       "reason_for_stop               0\n",
       "vehicle_make             162525\n",
       "vehicle_model            250553\n",
       "raw_BasisForStop              0\n",
       "raw_OperatorRace              0\n",
       "raw_OperatorSex               0\n",
       "raw_ResultOfStop              0\n",
       "raw_SearchResultOne      462822\n",
       "raw_SearchResultTwo      479765\n",
       "raw_SearchResultThree    480416\n",
       "dtype: int64"
      ]
     },
     "execution_count": 9,
     "metadata": {},
     "output_type": "execute_result"
    }
   ],
   "source": [
    "ri.isnull().sum()"
   ]
  },
  {
   "cell_type": "code",
   "execution_count": 10,
   "id": "b178a1ff",
   "metadata": {},
   "outputs": [
    {
     "data": {
      "text/plain": [
       "raw_row_number            int64\n",
       "date                     object\n",
       "time                     object\n",
       "zone                     object\n",
       "subject_race             object\n",
       "subject_sex              object\n",
       "department_id            object\n",
       "arrest_made              object\n",
       "citation_issued          object\n",
       "warning_issued           object\n",
       "outcome                  object\n",
       "contraband_found         object\n",
       "contraband_drugs         object\n",
       "contraband_weapons       object\n",
       "contraband_alcohol       object\n",
       "contraband_other         object\n",
       "frisk_performed          object\n",
       "search_conducted           bool\n",
       "search_basis             object\n",
       "reason_for_search        object\n",
       "reason_for_stop          object\n",
       "vehicle_make             object\n",
       "vehicle_model            object\n",
       "raw_BasisForStop         object\n",
       "raw_OperatorRace         object\n",
       "raw_OperatorSex          object\n",
       "raw_ResultOfStop         object\n",
       "raw_SearchResultOne      object\n",
       "raw_SearchResultTwo      object\n",
       "raw_SearchResultThree    object\n",
       "dtype: object"
      ]
     },
     "execution_count": 10,
     "metadata": {},
     "output_type": "execute_result"
    }
   ],
   "source": [
    "ri.dtypes"
   ]
  },
  {
   "cell_type": "code",
   "execution_count": 11,
   "id": "af52fa40",
   "metadata": {},
   "outputs": [],
   "source": [
    "combined = ri.date.str.cat(ri.time, sep=' ')\n",
    "ri['date_and_time'] = pd.to_datetime(combined)\n",
    "\n"
   ]
  },
  {
   "cell_type": "code",
   "execution_count": 12,
   "id": "988554b5",
   "metadata": {},
   "outputs": [],
   "source": [
    "ri.set_index('date_and_time', inplace=True)"
   ]
  },
  {
   "cell_type": "code",
   "execution_count": 13,
   "id": "76021bc6",
   "metadata": {},
   "outputs": [
    {
     "data": {
      "text/html": [
       "<div>\n",
       "<style scoped>\n",
       "    .dataframe tbody tr th:only-of-type {\n",
       "        vertical-align: middle;\n",
       "    }\n",
       "\n",
       "    .dataframe tbody tr th {\n",
       "        vertical-align: top;\n",
       "    }\n",
       "\n",
       "    .dataframe thead th {\n",
       "        text-align: right;\n",
       "    }\n",
       "</style>\n",
       "<table border=\"1\" class=\"dataframe\">\n",
       "  <thead>\n",
       "    <tr style=\"text-align: right;\">\n",
       "      <th></th>\n",
       "      <th>raw_row_number</th>\n",
       "      <th>date</th>\n",
       "      <th>time</th>\n",
       "      <th>zone</th>\n",
       "      <th>subject_race</th>\n",
       "      <th>subject_sex</th>\n",
       "      <th>department_id</th>\n",
       "      <th>arrest_made</th>\n",
       "      <th>citation_issued</th>\n",
       "      <th>warning_issued</th>\n",
       "      <th>...</th>\n",
       "      <th>reason_for_stop</th>\n",
       "      <th>vehicle_make</th>\n",
       "      <th>vehicle_model</th>\n",
       "      <th>raw_BasisForStop</th>\n",
       "      <th>raw_OperatorRace</th>\n",
       "      <th>raw_OperatorSex</th>\n",
       "      <th>raw_ResultOfStop</th>\n",
       "      <th>raw_SearchResultOne</th>\n",
       "      <th>raw_SearchResultTwo</th>\n",
       "      <th>raw_SearchResultThree</th>\n",
       "    </tr>\n",
       "    <tr>\n",
       "      <th>date_and_time</th>\n",
       "      <th></th>\n",
       "      <th></th>\n",
       "      <th></th>\n",
       "      <th></th>\n",
       "      <th></th>\n",
       "      <th></th>\n",
       "      <th></th>\n",
       "      <th></th>\n",
       "      <th></th>\n",
       "      <th></th>\n",
       "      <th></th>\n",
       "      <th></th>\n",
       "      <th></th>\n",
       "      <th></th>\n",
       "      <th></th>\n",
       "      <th></th>\n",
       "      <th></th>\n",
       "      <th></th>\n",
       "      <th></th>\n",
       "      <th></th>\n",
       "      <th></th>\n",
       "    </tr>\n",
       "  </thead>\n",
       "  <tbody>\n",
       "    <tr>\n",
       "      <th>2005-11-22 11:15:00</th>\n",
       "      <td>1</td>\n",
       "      <td>2005-11-22</td>\n",
       "      <td>11:15:00</td>\n",
       "      <td>X3</td>\n",
       "      <td>white</td>\n",
       "      <td>male</td>\n",
       "      <td>200</td>\n",
       "      <td>False</td>\n",
       "      <td>True</td>\n",
       "      <td>False</td>\n",
       "      <td>...</td>\n",
       "      <td>Speeding</td>\n",
       "      <td>NaN</td>\n",
       "      <td>NaN</td>\n",
       "      <td>SP</td>\n",
       "      <td>W</td>\n",
       "      <td>M</td>\n",
       "      <td>M</td>\n",
       "      <td>NaN</td>\n",
       "      <td>NaN</td>\n",
       "      <td>NaN</td>\n",
       "    </tr>\n",
       "    <tr>\n",
       "      <th>2005-10-01 12:20:00</th>\n",
       "      <td>2</td>\n",
       "      <td>2005-10-01</td>\n",
       "      <td>12:20:00</td>\n",
       "      <td>X3</td>\n",
       "      <td>white</td>\n",
       "      <td>male</td>\n",
       "      <td>200</td>\n",
       "      <td>False</td>\n",
       "      <td>True</td>\n",
       "      <td>False</td>\n",
       "      <td>...</td>\n",
       "      <td>Speeding</td>\n",
       "      <td>NaN</td>\n",
       "      <td>NaN</td>\n",
       "      <td>SP</td>\n",
       "      <td>W</td>\n",
       "      <td>M</td>\n",
       "      <td>M</td>\n",
       "      <td>NaN</td>\n",
       "      <td>NaN</td>\n",
       "      <td>NaN</td>\n",
       "    </tr>\n",
       "    <tr>\n",
       "      <th>2005-10-01 12:30:00</th>\n",
       "      <td>3</td>\n",
       "      <td>2005-10-01</td>\n",
       "      <td>12:30:00</td>\n",
       "      <td>X3</td>\n",
       "      <td>white</td>\n",
       "      <td>female</td>\n",
       "      <td>200</td>\n",
       "      <td>False</td>\n",
       "      <td>True</td>\n",
       "      <td>False</td>\n",
       "      <td>...</td>\n",
       "      <td>Speeding</td>\n",
       "      <td>NaN</td>\n",
       "      <td>NaN</td>\n",
       "      <td>SP</td>\n",
       "      <td>W</td>\n",
       "      <td>F</td>\n",
       "      <td>M</td>\n",
       "      <td>NaN</td>\n",
       "      <td>NaN</td>\n",
       "      <td>NaN</td>\n",
       "    </tr>\n",
       "    <tr>\n",
       "      <th>2005-10-01 12:50:00</th>\n",
       "      <td>4</td>\n",
       "      <td>2005-10-01</td>\n",
       "      <td>12:50:00</td>\n",
       "      <td>X3</td>\n",
       "      <td>white</td>\n",
       "      <td>male</td>\n",
       "      <td>200</td>\n",
       "      <td>False</td>\n",
       "      <td>True</td>\n",
       "      <td>False</td>\n",
       "      <td>...</td>\n",
       "      <td>Speeding</td>\n",
       "      <td>NaN</td>\n",
       "      <td>NaN</td>\n",
       "      <td>SP</td>\n",
       "      <td>W</td>\n",
       "      <td>M</td>\n",
       "      <td>M</td>\n",
       "      <td>NaN</td>\n",
       "      <td>NaN</td>\n",
       "      <td>NaN</td>\n",
       "    </tr>\n",
       "    <tr>\n",
       "      <th>2005-10-01 13:10:00</th>\n",
       "      <td>5</td>\n",
       "      <td>2005-10-01</td>\n",
       "      <td>13:10:00</td>\n",
       "      <td>X3</td>\n",
       "      <td>white</td>\n",
       "      <td>female</td>\n",
       "      <td>200</td>\n",
       "      <td>False</td>\n",
       "      <td>True</td>\n",
       "      <td>False</td>\n",
       "      <td>...</td>\n",
       "      <td>Speeding</td>\n",
       "      <td>NaN</td>\n",
       "      <td>NaN</td>\n",
       "      <td>SP</td>\n",
       "      <td>W</td>\n",
       "      <td>F</td>\n",
       "      <td>M</td>\n",
       "      <td>NaN</td>\n",
       "      <td>NaN</td>\n",
       "      <td>NaN</td>\n",
       "    </tr>\n",
       "  </tbody>\n",
       "</table>\n",
       "<p>5 rows × 30 columns</p>\n",
       "</div>"
      ],
      "text/plain": [
       "                     raw_row_number        date      time zone subject_race  \\\n",
       "date_and_time                                                                 \n",
       "2005-11-22 11:15:00               1  2005-11-22  11:15:00   X3        white   \n",
       "2005-10-01 12:20:00               2  2005-10-01  12:20:00   X3        white   \n",
       "2005-10-01 12:30:00               3  2005-10-01  12:30:00   X3        white   \n",
       "2005-10-01 12:50:00               4  2005-10-01  12:50:00   X3        white   \n",
       "2005-10-01 13:10:00               5  2005-10-01  13:10:00   X3        white   \n",
       "\n",
       "                    subject_sex department_id arrest_made citation_issued  \\\n",
       "date_and_time                                                               \n",
       "2005-11-22 11:15:00        male           200       False            True   \n",
       "2005-10-01 12:20:00        male           200       False            True   \n",
       "2005-10-01 12:30:00      female           200       False            True   \n",
       "2005-10-01 12:50:00        male           200       False            True   \n",
       "2005-10-01 13:10:00      female           200       False            True   \n",
       "\n",
       "                    warning_issued  ... reason_for_stop vehicle_make  \\\n",
       "date_and_time                       ...                                \n",
       "2005-11-22 11:15:00          False  ...        Speeding          NaN   \n",
       "2005-10-01 12:20:00          False  ...        Speeding          NaN   \n",
       "2005-10-01 12:30:00          False  ...        Speeding          NaN   \n",
       "2005-10-01 12:50:00          False  ...        Speeding          NaN   \n",
       "2005-10-01 13:10:00          False  ...        Speeding          NaN   \n",
       "\n",
       "                    vehicle_model raw_BasisForStop raw_OperatorRace  \\\n",
       "date_and_time                                                         \n",
       "2005-11-22 11:15:00           NaN               SP                W   \n",
       "2005-10-01 12:20:00           NaN               SP                W   \n",
       "2005-10-01 12:30:00           NaN               SP                W   \n",
       "2005-10-01 12:50:00           NaN               SP                W   \n",
       "2005-10-01 13:10:00           NaN               SP                W   \n",
       "\n",
       "                    raw_OperatorSex raw_ResultOfStop  raw_SearchResultOne  \\\n",
       "date_and_time                                                               \n",
       "2005-11-22 11:15:00               M                M                  NaN   \n",
       "2005-10-01 12:20:00               M                M                  NaN   \n",
       "2005-10-01 12:30:00               F                M                  NaN   \n",
       "2005-10-01 12:50:00               M                M                  NaN   \n",
       "2005-10-01 13:10:00               F                M                  NaN   \n",
       "\n",
       "                    raw_SearchResultTwo raw_SearchResultThree  \n",
       "date_and_time                                                  \n",
       "2005-11-22 11:15:00                 NaN                   NaN  \n",
       "2005-10-01 12:20:00                 NaN                   NaN  \n",
       "2005-10-01 12:30:00                 NaN                   NaN  \n",
       "2005-10-01 12:50:00                 NaN                   NaN  \n",
       "2005-10-01 13:10:00                 NaN                   NaN  \n",
       "\n",
       "[5 rows x 30 columns]"
      ]
     },
     "execution_count": 13,
     "metadata": {},
     "output_type": "execute_result"
    }
   ],
   "source": [
    "ri.head()"
   ]
  },
  {
   "cell_type": "code",
   "execution_count": 14,
   "id": "b3b44302",
   "metadata": {},
   "outputs": [
    {
     "data": {
      "text/plain": [
       "white                     344716\n",
       "black                      68577\n",
       "hispanic                   53123\n",
       "asian/pacific islander     12824\n",
       "other                       1344\n",
       "Name: subject_race, dtype: int64"
      ]
     },
     "execution_count": 14,
     "metadata": {},
     "output_type": "execute_result"
    }
   ],
   "source": [
    "ri.subject_race.value_counts()"
   ]
  },
  {
   "cell_type": "markdown",
   "id": "965154d9",
   "metadata": {},
   "source": [
    "Let''s have a look a each gender"
   ]
  },
  {
   "cell_type": "code",
   "execution_count": 15,
   "id": "6796b537",
   "metadata": {},
   "outputs": [],
   "source": [
    "male = ri[ri.subject_sex == 'male']\n",
    "female = ri[ri.subject_sex == 'female']"
   ]
  },
  {
   "cell_type": "code",
   "execution_count": 16,
   "id": "d92ebad0",
   "metadata": {},
   "outputs": [
    {
     "data": {
      "text/plain": [
       "Speeding                            0.522364\n",
       "Other Traffic Violation             0.206948\n",
       "Equipment/Inspection Violation      0.135102\n",
       "Registration Violation              0.040581\n",
       "Special Detail/Directed Patrol      0.037136\n",
       "Seatbelt Violation                  0.036555\n",
       "Call for Service                    0.014987\n",
       "Violation of City/Town Ordinance    0.002347\n",
       "Motorist Assist/Courtesy            0.001880\n",
       "APB                                 0.001076\n",
       "Suspicious Person                   0.000767\n",
       "Warrant                             0.000258\n",
       "Name: reason_for_stop, dtype: float64"
      ]
     },
     "execution_count": 16,
     "metadata": {},
     "output_type": "execute_result"
    }
   ],
   "source": [
    "male.reason_for_stop.value_counts(normalize=True)"
   ]
  },
  {
   "cell_type": "code",
   "execution_count": 17,
   "id": "4d38982c",
   "metadata": {},
   "outputs": [
    {
     "data": {
      "text/plain": [
       "Speeding                            0.657308\n",
       "Other Traffic Violation             0.136581\n",
       "Equipment/Inspection Violation      0.107055\n",
       "Registration Violation              0.043077\n",
       "Seatbelt Violation                  0.027071\n",
       "Call for Service                    0.018057\n",
       "Special Detail/Directed Patrol      0.005071\n",
       "Motorist Assist/Courtesy            0.002532\n",
       "Violation of City/Town Ordinance    0.001647\n",
       "APB                                 0.000831\n",
       "Suspicious Person                   0.000564\n",
       "Warrant                             0.000206\n",
       "Name: reason_for_stop, dtype: float64"
      ]
     },
     "execution_count": 17,
     "metadata": {},
     "output_type": "execute_result"
    }
   ],
   "source": [
    "female.reason_for_stop.value_counts(normalize=True)"
   ]
  },
  {
   "cell_type": "markdown",
   "id": "ec7074a4",
   "metadata": {},
   "source": [
    "On first glance, speeding takes up a larger proportion of traffic violations for females than males. Although this does not take into count the number of stops for each of the two groups."
   ]
  },
  {
   "cell_type": "markdown",
   "id": "f9b3cc94",
   "metadata": {},
   "source": [
    "Does gender affect who fets a ticket for speeding?"
   ]
  },
  {
   "cell_type": "code",
   "execution_count": 18,
   "id": "3428efde",
   "metadata": {},
   "outputs": [
    {
     "data": {
      "text/plain": [
       "citation    0.954609\n",
       "warning     0.039059\n",
       "arrest      0.006332\n",
       "Name: outcome, dtype: float64"
      ]
     },
     "execution_count": 18,
     "metadata": {},
     "output_type": "execute_result"
    }
   ],
   "source": [
    "female_and_speeding = ri[(ri.subject_sex == 'female') & (ri.reason_for_stop == 'Speeding')]\n",
    "male_and_speeding = ri[(ri.subject_sex == 'male') & (ri.reason_for_stop == 'Speeding')]\n",
    "\n",
    "female_and_speeding.outcome.value_counts(normalize=True)\n",
    "\n",
    "\n"
   ]
  },
  {
   "cell_type": "code",
   "execution_count": 19,
   "id": "02fffaa1",
   "metadata": {},
   "outputs": [
    {
     "data": {
      "text/plain": [
       "citation    0.946763\n",
       "warning     0.036167\n",
       "arrest      0.017070\n",
       "Name: outcome, dtype: float64"
      ]
     },
     "execution_count": 19,
     "metadata": {},
     "output_type": "execute_result"
    }
   ],
   "source": [
    "male_and_speeding.outcome.value_counts(normalize=True)"
   ]
  },
  {
   "cell_type": "markdown",
   "id": "acfb2fe0",
   "metadata": {},
   "source": [
    "The proportions of tickets (citation) given to both female and male drivers is nearly identical. With 95.4% nad 94.6%, respectively."
   ]
  },
  {
   "cell_type": "markdown",
   "id": "391e8d5f",
   "metadata": {},
   "source": [
    "Does the driver's gender affect whether their vehicle is searched?"
   ]
  },
  {
   "cell_type": "code",
   "execution_count": 20,
   "id": "c3cb3088",
   "metadata": {},
   "outputs": [
    {
     "data": {
      "text/plain": [
       "N    11183\n",
       "D     4554\n",
       "A      916\n",
       "W      390\n",
       "O      364\n",
       "M      355\n",
       "Name: raw_SearchResultOne, dtype: int64"
      ]
     },
     "execution_count": 20,
     "metadata": {},
     "output_type": "execute_result"
    }
   ],
   "source": [
    "# search rate across all stops \n",
    "ri.raw_SearchResultOne.value_counts()"
   ]
  },
  {
   "cell_type": "code",
   "execution_count": 21,
   "id": "2c4a398f",
   "metadata": {},
   "outputs": [
    {
     "data": {
      "text/plain": [
       "False    0.963041\n",
       "True     0.036959\n",
       "Name: search_conducted, dtype: float64"
      ]
     },
     "execution_count": 21,
     "metadata": {},
     "output_type": "execute_result"
    }
   ],
   "source": [
    "ri.search_conducted.value_counts(normalize=True)"
   ]
  },
  {
   "cell_type": "markdown",
   "id": "60d679d3",
   "metadata": {},
   "source": [
    "Around 3.6% of stops included a search of the vehicle. Let's now compare across gender."
   ]
  },
  {
   "cell_type": "code",
   "execution_count": 22,
   "id": "bf6a7e5a",
   "metadata": {},
   "outputs": [
    {
     "data": {
      "text/plain": [
       "subject_sex\n",
       "female    0.018751\n",
       "male      0.043792\n",
       "Name: search_conducted, dtype: float64"
      ]
     },
     "execution_count": 22,
     "metadata": {},
     "output_type": "execute_result"
    }
   ],
   "source": [
    "ri.groupby('subject_sex').search_conducted.mean()\n"
   ]
  },
  {
   "cell_type": "markdown",
   "id": "85d535b2",
   "metadata": {},
   "source": [
    "4.3% of males and 0.18% of females have their vehicle searched after the police stop them. Although we need to look at the types of violations comitted to have a better understanding as to why men are being stopped more frequently than women. "
   ]
  },
  {
   "cell_type": "code",
   "execution_count": 23,
   "id": "bbacd069",
   "metadata": {},
   "outputs": [
    {
     "data": {
      "text/plain": [
       "reason_for_stop                   subject_sex\n",
       "APB                               female         0.165138\n",
       "                                  male           0.255319\n",
       "Call for Service                  female         0.042230\n",
       "                                  male           0.092419\n",
       "Equipment/Inspection Violation    female         0.040245\n",
       "                                  male           0.070916\n",
       "Motorist Assist/Courtesy          female         0.033133\n",
       "                                  male           0.089802\n",
       "Other Traffic Violation           female         0.038021\n",
       "                                  male           0.059156\n",
       "Registration Violation            female         0.054700\n",
       "                                  male           0.103589\n",
       "Seatbelt Violation                female         0.017746\n",
       "                                  male           0.031705\n",
       "Special Detail/Directed Patrol    female         0.018045\n",
       "                                  male           0.010249\n",
       "Speeding                          female         0.007738\n",
       "                                  male           0.026630\n",
       "Suspicious Person                 female         0.216216\n",
       "                                  male           0.305970\n",
       "Violation of City/Town Ordinance  female         0.060185\n",
       "                                  male           0.073171\n",
       "Warrant                           female         0.148148\n",
       "                                  male           0.311111\n",
       "Name: search_conducted, dtype: float64"
      ]
     },
     "execution_count": 23,
     "metadata": {},
     "output_type": "execute_result"
    }
   ],
   "source": [
    "ri.groupby(['reason_for_stop', 'subject_sex']).search_conducted.mean()"
   ]
  },
  {
   "cell_type": "markdown",
   "id": "830ae17a",
   "metadata": {},
   "source": [
    "Does gender affect who is frisked during a search?"
   ]
  },
  {
   "cell_type": "code",
   "execution_count": 24,
   "id": "584eb980",
   "metadata": {},
   "outputs": [
    {
     "data": {
      "text/plain": [
       "1598"
      ]
     },
     "execution_count": 24,
     "metadata": {},
     "output_type": "execute_result"
    }
   ],
   "source": [
    "ri['frisk'] = ri.reason_for_search.str.contains('Frisk', na=False)\n",
    "ri.frisk.sum()"
   ]
  },
  {
   "cell_type": "markdown",
   "id": "12fd1959",
   "metadata": {},
   "source": [
    "The total number of frisk in the dataset is 1598"
   ]
  },
  {
   "cell_type": "code",
   "execution_count": 30,
   "id": "b553bdd3",
   "metadata": {},
   "outputs": [
    {
     "data": {
      "text/plain": [
       "subject_sex\n",
       "female    0.066694\n",
       "male      0.093707\n",
       "Name: frisk, dtype: float64"
      ]
     },
     "execution_count": 30,
     "metadata": {},
     "output_type": "execute_result"
    }
   ],
   "source": [
    "searched = ri[ri.search_conducted == True]\n",
    "searched.groupby('subject_sex').frisk.mean()"
   ]
  },
  {
   "cell_type": "markdown",
   "id": "d47e0c3a",
   "metadata": {},
   "source": [
    "The frisk rate for females and males is 0.66% and 0.94%, respectively."
   ]
  },
  {
   "cell_type": "markdown",
   "id": "7ac5ebc3",
   "metadata": {},
   "source": [
    "What percentage of searches included an inventory?"
   ]
  },
  {
   "cell_type": "code",
   "execution_count": 31,
   "id": "7ec1d0a8",
   "metadata": {},
   "outputs": [],
   "source": [
    "ri['inventory'] = ri.reason_for_search.str.contains('Inventory', na=False)"
   ]
  },
  {
   "cell_type": "code",
   "execution_count": 32,
   "id": "53061249",
   "metadata": {},
   "outputs": [
    {
     "data": {
      "text/plain": [
       "0.12464812521112488"
      ]
     },
     "execution_count": 32,
     "metadata": {},
     "output_type": "execute_result"
    }
   ],
   "source": [
    "searched.inventory.mean()"
   ]
  },
  {
   "cell_type": "markdown",
   "id": "4b8dffb1",
   "metadata": {},
   "source": [
    "12.4% of searches included an inventory"
   ]
  },
  {
   "cell_type": "markdown",
   "id": "ae92ae99",
   "metadata": {},
   "source": [
    "When a police officer pulls over a vehicle, sometimes it results in an arrest being made. The proportion of the stops that result in an arrest is known as an arrest rate. \n"
   ]
  },
  {
   "cell_type": "code",
   "execution_count": 33,
   "id": "68ecd84a",
   "metadata": {},
   "outputs": [
    {
     "data": {
      "text/plain": [
       "0.03454755048024903"
      ]
     },
     "execution_count": 33,
     "metadata": {},
     "output_type": "execute_result"
    }
   ],
   "source": [
    "ri.arrest_made.mean()"
   ]
  },
  {
   "cell_type": "code",
   "execution_count": 34,
   "id": "60d7bc65",
   "metadata": {},
   "outputs": [
    {
     "data": {
      "text/plain": [
       "date_and_time\n",
       "0     0.052151\n",
       "1     0.067127\n",
       "2     0.061067\n",
       "3     0.052613\n",
       "4     0.053897\n",
       "5     0.032657\n",
       "6     0.012949\n",
       "7     0.013829\n",
       "8     0.019717\n",
       "9     0.024699\n",
       "10    0.025583\n",
       "11    0.027078\n",
       "12    0.031361\n",
       "13    0.030250\n",
       "14    0.031531\n",
       "15    0.032125\n",
       "16    0.033519\n",
       "17    0.038989\n",
       "18    0.039902\n",
       "19    0.031366\n",
       "20    0.039292\n",
       "21    0.059956\n",
       "22    0.043980\n",
       "23    0.045087\n",
       "Name: arrest_made, dtype: float64"
      ]
     },
     "execution_count": 34,
     "metadata": {},
     "output_type": "execute_result"
    }
   ],
   "source": [
    "hourly_arrest_rate = ri.groupby(ri.index.hour).arrest_made.mean()\n",
    "hourly_arrest_rate"
   ]
  },
  {
   "cell_type": "code",
   "execution_count": 35,
   "id": "3d605b75",
   "metadata": {},
   "outputs": [
    {
     "data": {
      "image/png": "[encoded data removed]",
      "text/plain": [
       "<Figure size 432x288 with 1 Axes>"
      ]
     },
     "metadata": {
      "needs_background": "light"
     },
     "output_type": "display_data"
    }
   ],
   "source": [
    "plt.plot(hourly_arrest_rate)\n",
    "plt.style.use('ggplot')\n",
    "plt.xlabel('Hour')\n",
    "plt.ylabel('Arrest Rate')\n",
    "plt.title('Arrest Rate by Hour of the Day')\n",
    "plt.show()"
   ]
  },
  {
   "cell_type": "markdown",
   "id": "a3c5b2c7",
   "metadata": {},
   "source": [
    "Are drug related stops on the rise?"
   ]
  },
  {
   "cell_type": "code",
   "execution_count": 36,
   "id": "83feb587",
   "metadata": {},
   "outputs": [
    {
     "data": {
      "text/plain": [
       "Index(['raw_row_number', 'date', 'time', 'zone', 'subject_race', 'subject_sex',\n",
       "       'department_id', 'arrest_made', 'citation_issued', 'warning_issued',\n",
       "       'outcome', 'contraband_found', 'contraband_drugs', 'contraband_weapons',\n",
       "       'contraband_alcohol', 'contraband_other', 'frisk_performed',\n",
       "       'search_conducted', 'search_basis', 'reason_for_search',\n",
       "       'reason_for_stop', 'vehicle_make', 'vehicle_model', 'raw_BasisForStop',\n",
       "       'raw_OperatorRace', 'raw_OperatorSex', 'raw_ResultOfStop',\n",
       "       'raw_SearchResultOne', 'raw_SearchResultTwo', 'raw_SearchResultThree',\n",
       "       'frisk', 'inventory'],\n",
       "      dtype='object')"
      ]
     },
     "execution_count": 36,
     "metadata": {},
     "output_type": "execute_result"
    }
   ],
   "source": [
    "ri.columns"
   ]
  },
  {
   "cell_type": "code",
   "execution_count": 37,
   "id": "49a79929",
   "metadata": {},
   "outputs": [
    {
     "data": {
      "image/png": "[encoded data removed]",
      "text/plain": [
       "<Figure size 432x288 with 1 Axes>"
      ]
     },
     "metadata": {},
     "output_type": "display_data"
    }
   ],
   "source": [
    "annual_drug_rate = ri.contraband_drugs.resample('A').mean()\n",
    "plt.plot(annual_drug_rate)\n",
    "plt.xlabel('Year')\n",
    "plt.ylabel('Drug Rate')\n",
    "plt.show()"
   ]
  },
  {
   "cell_type": "markdown",
   "id": "0e3fe770",
   "metadata": {},
   "source": [
    "Between 2009 and 2015 Drug related stops nearly doubled. Let's compate the search rate and the drug rate over the same period "
   ]
  },
  {
   "cell_type": "code",
   "execution_count": 38,
   "id": "ba5144c0",
   "metadata": {},
   "outputs": [
    {
     "data": {
      "image/png": "[encoded data removed]",
      "text/plain": [
       "<Figure size 432x288 with 2 Axes>"
      ]
     },
     "metadata": {},
     "output_type": "display_data"
    }
   ],
   "source": [
    "annual_search_rate = ri.search_conducted.resample('A').mean()\n",
    "annual = pd.concat([annual_drug_rate, annual_search_rate], axis='columns')\n",
    "annual.plot(subplots=True)\n",
    "plt.show()"
   ]
  },
  {
   "cell_type": "markdown",
   "id": "c4d301d6",
   "metadata": {},
   "source": [
    "Interestingly, the drug related stops increased whilst the overall search rate decreased. Let's now look at what violations are caught in each district?"
   ]
  },
  {
   "cell_type": "code",
   "execution_count": 39,
   "id": "aaf3e190",
   "metadata": {},
   "outputs": [
    {
     "data": {
      "text/html": [
       "<div>\n",
       "<style scoped>\n",
       "    .dataframe tbody tr th:only-of-type {\n",
       "        vertical-align: middle;\n",
       "    }\n",
       "\n",
       "    .dataframe tbody tr th {\n",
       "        vertical-align: top;\n",
       "    }\n",
       "\n",
       "    .dataframe thead th {\n",
       "        text-align: right;\n",
       "    }\n",
       "</style>\n",
       "<table border=\"1\" class=\"dataframe\">\n",
       "  <thead>\n",
       "    <tr style=\"text-align: right;\">\n",
       "      <th>reason_for_stop</th>\n",
       "      <th>APB</th>\n",
       "      <th>Call for Service</th>\n",
       "      <th>Equipment/Inspection Violation</th>\n",
       "      <th>Motorist Assist/Courtesy</th>\n",
       "      <th>Other Traffic Violation</th>\n",
       "      <th>Registration Violation</th>\n",
       "      <th>Seatbelt Violation</th>\n",
       "      <th>Special Detail/Directed Patrol</th>\n",
       "      <th>Speeding</th>\n",
       "      <th>Suspicious Person</th>\n",
       "      <th>Violation of City/Town Ordinance</th>\n",
       "      <th>Warrant</th>\n",
       "    </tr>\n",
       "    <tr>\n",
       "      <th>zone</th>\n",
       "      <th></th>\n",
       "      <th></th>\n",
       "      <th></th>\n",
       "      <th></th>\n",
       "      <th></th>\n",
       "      <th></th>\n",
       "      <th></th>\n",
       "      <th></th>\n",
       "      <th></th>\n",
       "      <th></th>\n",
       "      <th></th>\n",
       "      <th></th>\n",
       "    </tr>\n",
       "  </thead>\n",
       "  <tbody>\n",
       "    <tr>\n",
       "      <th>K1</th>\n",
       "      <td>32</td>\n",
       "      <td>281</td>\n",
       "      <td>3786</td>\n",
       "      <td>78</td>\n",
       "      <td>7127</td>\n",
       "      <td>628</td>\n",
       "      <td>1</td>\n",
       "      <td>1009</td>\n",
       "      <td>33067</td>\n",
       "      <td>72</td>\n",
       "      <td>21</td>\n",
       "      <td>8</td>\n",
       "    </tr>\n",
       "    <tr>\n",
       "      <th>K2</th>\n",
       "      <td>101</td>\n",
       "      <td>1036</td>\n",
       "      <td>11285</td>\n",
       "      <td>118</td>\n",
       "      <td>16440</td>\n",
       "      <td>4056</td>\n",
       "      <td>2897</td>\n",
       "      <td>3539</td>\n",
       "      <td>57500</td>\n",
       "      <td>59</td>\n",
       "      <td>237</td>\n",
       "      <td>13</td>\n",
       "    </tr>\n",
       "    <tr>\n",
       "      <th>K3</th>\n",
       "      <td>144</td>\n",
       "      <td>1227</td>\n",
       "      <td>12959</td>\n",
       "      <td>258</td>\n",
       "      <td>16218</td>\n",
       "      <td>3871</td>\n",
       "      <td>3660</td>\n",
       "      <td>2011</td>\n",
       "      <td>68234</td>\n",
       "      <td>68</td>\n",
       "      <td>194</td>\n",
       "      <td>24</td>\n",
       "    </tr>\n",
       "  </tbody>\n",
       "</table>\n",
       "</div>"
      ],
      "text/plain": [
       "reason_for_stop  APB  Call for Service  Equipment/Inspection Violation  \\\n",
       "zone                                                                     \n",
       "K1                32               281                            3786   \n",
       "K2               101              1036                           11285   \n",
       "K3               144              1227                           12959   \n",
       "\n",
       "reason_for_stop  Motorist Assist/Courtesy  Other Traffic Violation  \\\n",
       "zone                                                                 \n",
       "K1                                     78                     7127   \n",
       "K2                                    118                    16440   \n",
       "K3                                    258                    16218   \n",
       "\n",
       "reason_for_stop  Registration Violation  Seatbelt Violation  \\\n",
       "zone                                                          \n",
       "K1                                  628                   1   \n",
       "K2                                 4056                2897   \n",
       "K3                                 3871                3660   \n",
       "\n",
       "reason_for_stop  Special Detail/Directed Patrol  Speeding  Suspicious Person  \\\n",
       "zone                                                                           \n",
       "K1                                         1009     33067                 72   \n",
       "K2                                         3539     57500                 59   \n",
       "K3                                         2011     68234                 68   \n",
       "\n",
       "reason_for_stop  Violation of City/Town Ordinance  Warrant  \n",
       "zone                                                        \n",
       "K1                                             21        8  \n",
       "K2                                            237       13  \n",
       "K3                                            194       24  "
      ]
     },
     "execution_count": 39,
     "metadata": {},
     "output_type": "execute_result"
    }
   ],
   "source": [
    "all_zones = pd.crosstab(ri.zone, ri.reason_for_stop)\n",
    "k_zones = all_zones.loc['K1': 'K3']\n",
    "k_zones"
   ]
  },
  {
   "cell_type": "code",
   "execution_count": 40,
   "id": "16a8dfd1",
   "metadata": {},
   "outputs": [
    {
     "data": {
      "image/png": "[encoded data removed]",
      "text/plain": [
       "<Figure size 900x500 with 1 Axes>"
      ]
     },
     "metadata": {},
     "output_type": "display_data"
    },
    {
     "data": {
      "text/plain": [
       "<Figure size 640x480 with 0 Axes>"
      ]
     },
     "metadata": {},
     "output_type": "display_data"
    }
   ],
   "source": [
    "plt.style.use('default')\n",
    "\n",
    "k_zones.plot(kind='bar', stacked=True, figsize=(9, 5));\n",
    "plt.xlabel('Zone in Rhode Island')\n",
    "plt.title('Type of violation by zone')\n",
    "plt.ylabel('Count')\n",
    "plt.show()\n",
    "plt.clf()\n"
   ]
  },
  {
   "cell_type": "markdown",
   "id": "b0a58a5f",
   "metadata": {},
   "source": [
    "This chart tells us that K3 zone had the largest number of police stops. It also tells us that speeding stops were the overwhelming majority of the reasons for stop. Both other Traffic Violation and Equipement Inspection violation make up large proportions of the police stops."
   ]
  },
  {
   "cell_type": "markdown",
   "id": "55a9be5c",
   "metadata": {},
   "source": [
    "Let's see which violations have the highest and the lowest search rates. "
   ]
  },
  {
   "cell_type": "code",
   "execution_count": 41,
   "id": "e0f96c0a",
   "metadata": {},
   "outputs": [
    {
     "data": {
      "text/plain": [
       "Text(0, 0.5, 'Search Rate')"
      ]
     },
     "execution_count": 41,
     "metadata": {},
     "output_type": "execute_result"
    },
    {
     "data": {
      "image/png": "[encoded data removed]",
      "text/plain": [
       "<Figure size 640x480 with 1 Axes>"
      ]
     },
     "metadata": {},
     "output_type": "display_data"
    }
   ],
   "source": [
    "search_rate = ri.groupby('reason_for_stop').search_conducted.mean()\n",
    "search_rate.sort_values().plot(kind='barh')\n",
    "plt.xlabel('Reason for Stop')\n",
    "plt.title('Search rate by Violation')\n",
    "plt.ylabel('Search Rate')"
   ]
  },
  {
   "cell_type": "markdown",
   "id": "c1708577",
   "metadata": {},
   "source": [
    "Finally, let's look at the search rate between genders to see who is more likely to be subject to a police search."
   ]
  },
  {
   "cell_type": "code",
   "execution_count": 46,
   "id": "e615b470",
   "metadata": {},
   "outputs": [
    {
     "data": {
      "text/plain": [
       "Text(0, 0.5, 'Search rate')"
      ]
     },
     "execution_count": 46,
     "metadata": {},
     "output_type": "execute_result"
    },
    {
     "data": {
      "image/png": "[encoded data removed]",
      "text/plain": [
       "<Figure size 640x480 with 1 Axes>"
      ]
     },
     "metadata": {},
     "output_type": "display_data"
    }
   ],
   "source": [
    "ri.groupby('subject_sex').search_conducted.mean().plot(kind='bar');\n",
    "plt.title('Search rate by male and female')\n",
    "plt.xlabel('Sex')\n",
    "plt.ylabel('Search rate')"
   ]
  },
  {
   "cell_type": "markdown",
   "id": "7106d247",
   "metadata": {},
   "source": [
    "From the data, we see that males are over twice as likely to be searched than females. However, we cannot concude that a search is twice as likely if the subject is male. Since there are other factors we need to consider. I'll explore the reason for stop to see if the nature of the violation explains the disparity in search rates betwee males and females. \n"
   ]
  },
  {
   "cell_type": "code",
   "execution_count": 44,
   "id": "7914b626",
   "metadata": {},
   "outputs": [
    {
     "data": {
      "text/plain": [
       "reason_for_stop                   subject_sex\n",
       "APB                               female         0.165138\n",
       "                                  male           0.255319\n",
       "Call for Service                  female         0.042230\n",
       "                                  male           0.092419\n",
       "Equipment/Inspection Violation    female         0.040245\n",
       "                                  male           0.070916\n",
       "Motorist Assist/Courtesy          female         0.033133\n",
       "                                  male           0.089802\n",
       "Other Traffic Violation           female         0.038021\n",
       "                                  male           0.059156\n",
       "Registration Violation            female         0.054700\n",
       "                                  male           0.103589\n",
       "Seatbelt Violation                female         0.017746\n",
       "                                  male           0.031705\n",
       "Special Detail/Directed Patrol    female         0.018045\n",
       "                                  male           0.010249\n",
       "Speeding                          female         0.007738\n",
       "                                  male           0.026630\n",
       "Suspicious Person                 female         0.216216\n",
       "                                  male           0.305970\n",
       "Violation of City/Town Ordinance  female         0.060185\n",
       "                                  male           0.073171\n",
       "Warrant                           female         0.148148\n",
       "                                  male           0.311111\n",
       "Name: search_conducted, dtype: float64"
      ]
     },
     "execution_count": 44,
     "metadata": {},
     "output_type": "execute_result"
    }
   ],
   "source": [
    "ri.groupby(['reason_for_stop', 'subject_sex']).search_conducted.mean()"
   ]
  },
  {
   "cell_type": "markdown",
   "id": "aae42b63",
   "metadata": {},
   "source": [
    "For males, the search rate is higher across all types of violation. This doesn't show a causal link, although it does show a correlation."
   ]
  },
  {
   "cell_type": "markdown",
   "id": "57ea1f02",
   "metadata": {},
   "source": [
    "As we don't have any information as to where the traffic stops took place. For example their precise GPS location. The data we will use for our weather information is from the National Centers for Environmental Information and for the state of Rhode Island. As the smallest US state, a single station still will give us a general idea about the weather throughout the state. Let's load in the dataset. "
   ]
  }
 ],
 "metadata": {
  "kernelspec": {
   "display_name": "Python 3",
   "language": "python",
   "name": "python3"
  },
  "language_info": {
   "codemirror_mode": {
    "name": "ipython",
    "version": 3
   },
   "file_extension": ".py",
   "mimetype": "text/x-python",
   "name": "python",
   "nbconvert_exporter": "python",
   "pygments_lexer": "ipython3",
   "version": "3.9.1"
  }
 },
 "nbformat": 4,
 "nbformat_minor": 5
}
